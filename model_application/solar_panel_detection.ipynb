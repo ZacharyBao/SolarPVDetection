{
 "cells": [
  {
   "cell_type": "code",
   "execution_count": 1,
   "metadata": {},
   "outputs": [
    {
     "name": "stdout",
     "output_type": "stream",
     "text": [
      "/home/tungpao0707/gcloud/Thesis/model_application\n"
     ]
    }
   ],
   "source": [
    "import import_ipynb\n",
    "import matplotlib.pyplot as plt\n",
    "import math\n",
    "import sys\n",
    "import datetime\n",
    "import os\n",
    "print(os.getcwd())\n",
    "from model_list import segnet_1\n",
    "from model_list import segnet_3\n",
    "from model_list import fast_scnn_2\n",
    "from model_list import segnet_0\n",
    "sys.path.append(\"..\") \n",
    "from data_processing import prepare_data, data_processing_tool_4"
   ]
  },
  {
   "cell_type": "code",
   "execution_count": 2,
   "metadata": {},
   "outputs": [],
   "source": [
    "IMAGE_LIST=[\"EPSG3857_Date20170224_Lat-28.17291_Lon153.541585_Mpp0.149.jpg\",\n",
    "           \"EPSG3857_Date20170228_Lat-31.936911_Lon115.814916_Mpp0.149.jpg\",\n",
    "           \"EPSG3857_Date20200321_Lat-27.496309_Lon153.012468_Mpp0.149.jpg\",\n",
    "           \"EPSG3857_Date20200714_Lat-27.367418_Lon153.054237_Mpp0.149.jpg\",\n",
    "           \"47.png\"]\n",
    "TRAINED_MODELS=[\"fast_scnn_2.h5\", #model type 1\n",
    "               \"seg_resnet_2.h5\", #model type 2\n",
    "               \"segnet_1.h5\", #model type 3\n",
    "               \"segnet_2.h5\", #model type 3\n",
    "               \"segnet_original.h5\"] #model type 4\n",
    "TEST_IMAGE_PATH = \"test_images/\"\n",
    "MODEL_PATH = \"../trained_models/\"\n",
    "SAVING_PATH=\"prediction_images/\"\n",
    "INITIAL_BATCH_SIZE = 8"
   ]
  },
  {
   "cell_type": "code",
   "execution_count": 3,
   "metadata": {},
   "outputs": [],
   "source": [
    "def get_predicted_label_list(sub_imgs, model):\n",
    "    \"\"\"\n",
    "    Get predicted sub labels.\n",
    "    Args:\n",
    "        sub_imgs: np.array.\n",
    "        model: model.\n",
    "    Return:\n",
    "        sub_predicted_label_list: list, predicted sub labels.\n",
    "    Raises:\n",
    "        None.\n",
    "    \"\"\"\n",
    "    sub_predicted_label_list = []\n",
    "    for i in range(0, math.ceil(sub_imgs.shape[0] / INITIAL_BATCH_SIZE)):\n",
    "        # number of sub images is not the times of 8, the batch size will be reset\n",
    "        # for the last batch\n",
    "        if sub_imgs.shape[0] % INITIAL_BATCH_SIZE != 0:\n",
    "            if i != math.ceil(sub_imgs.shape[0] / INITIAL_BATCH_SIZE) - 1:\n",
    "                batch_size = INITIAL_BATCH_SIZE\n",
    "            else:\n",
    "                batch_size = sub_imgs.shape[0] % INITIAL_BATCH_SIZE\n",
    "        else:\n",
    "            # batch size is set to 8 all the time\n",
    "            batch_size = INITIAL_BATCH_SIZE\n",
    "        results = model.predict(sub_imgs[i * INITIAL_BATCH_SIZE:i * INITIAL_BATCH_SIZE + batch_size])\n",
    "        for j in range(0, results.shape[0]):\n",
    "            my_img = prepare_data.onehot_to_rgb(results[j], prepare_data.id2code)\n",
    "            sub_predicted_label_list.append(my_img)\n",
    "    return sub_predicted_label_list"
   ]
  },
  {
   "cell_type": "code",
   "execution_count": 4,
   "metadata": {},
   "outputs": [],
   "source": [
    "def generate_prediction_image(model_type, model_name, test_image_name, saving_image_name):\n",
    "    \"\"\"\n",
    "    Generate prediction image.\n",
    "    Args:\n",
    "        model_type: Integer, indicate model type.\n",
    "        model_name: h5 file name.\n",
    "        test_image_name: string, test image name.\n",
    "        saving_image_name: string, saving image name.\n",
    "    Return:\n",
    "        None.\n",
    "    Raises:\n",
    "        None.\n",
    "    \"\"\"\n",
    "    image = plt.imread(TEST_IMAGE_PATH+test_image_name)\n",
    "    original_width = image.shape[1]\n",
    "    original_height = image.shape[0]\n",
    "    sub_imgs, padded_img, padded_width, padded_height = data_processing_tool_4.get_sub_images(image)\n",
    "    # Bulid model and load weight\n",
    "    # The reason to set model's batch_size to 1 is that only this enables data generator to have a dynamic batch_size.\n",
    "    # For example, if the model's batch_size is 16, then the batch_size of data generator must be 16.\n",
    "    # But if the model's batch_size is 1, then the batch_size of data generator can be 1,2,8,16 whatever.\n",
    "    if model_type==1:#fast scnn\n",
    "        model = fast_scnn_2.fast_scnn_v2(input_shape=sub_imgs[0].shape, batch_size=1, n_labels=2, model_summary=False)\n",
    "        model.load_weights(MODEL_PATH+model_name)\n",
    "    elif model_type==2:#segnet with resnet\n",
    "        model = segnet_3.segnet_resnet_v2(input_shape=sub_imgs[0].shape, batch_size=1, n_labels=2, model_summary=False)\n",
    "        model.load_weights(MODEL_PATH+model_name)\n",
    "    elif model_type==3:#segnet with 4 encoders and decoders\n",
    "        model = segnet_1.segnet_4_encoder_decoder(input_shape=sub_imgs[0].shape, batch_size=1, n_labels=2, model_summary=False)\n",
    "        model.load_weights(MODEL_PATH+model_name)\n",
    "    elif model_type==4:#original segnet\n",
    "        model = segnet_0.segnet_original(input_shape=sub_imgs[0].shape, batch_size=1, n_labels=2, model_summary=False)\n",
    "        model.load_weights(MODEL_PATH+model_name)\n",
    "    else:\n",
    "        raise ModelTypeError\n",
    "    sub_predicted_label_list = get_predicted_label_list(sub_imgs,model)\n",
    "    full_label = data_processing_tool_4.get_full_predicted_label(padded_height, padded_width, sub_predicted_label_list)\n",
    "    full_label_with_mask = data_processing_tool_4.add_transparent_mask(padded_img, full_label, original_width,\n",
    "                                                                       original_height)\n",
    "    full_label_with_mask.save(SAVING_PATH+saving_image_name+'.png', 'PNG')\n",
    "    print(\"Save successfully!\")"
   ]
  },
  {
   "cell_type": "code",
   "execution_count": 5,
   "metadata": {},
   "outputs": [],
   "source": [
    "class ModelTypeError(Exception):\n",
    "    \"\"\"Raise this error when the model type is invalid.\"\"\"\n",
    "    pass"
   ]
  },
  {
   "cell_type": "code",
   "execution_count": 13,
   "metadata": {},
   "outputs": [
    {
     "name": "stdout",
     "output_type": "stream",
     "text": [
      "Save successfully!\n",
      "Execution time:  16 s\n"
     ]
    }
   ],
   "source": [
    "if __name__ == '__main__':\n",
    "    #choose one of them.\n",
    "    #model_type=1, model_name=TRAINED_MODELS[0]\n",
    "    #model_type=2, model_name=TRAINED_MODELS[1]\n",
    "    #model_type=3, model_name=TRAINED_MODELS[2]\n",
    "    #model_type=3, model_name=TRAINED_MODELS[3]\n",
    "    #model_type=4, model_name=TRAINED_MODELS[4]\n",
    "    start_time = datetime.datetime.now()\n",
    "    generate_prediction_image(model_type=1, model_name=TRAINED_MODELS[0], \n",
    "                              test_image_name=IMAGE_LIST[2], saving_image_name=\"fast_scnn2_image_2\")\n",
    "    end_time = datetime.datetime.now()\n",
    "    execution_time = (end_time - start_time).seconds\n",
    "    print(\"Execution time: \", execution_time ,\"s\")\n",
    "    "
   ]
  },
  {
   "cell_type": "code",
   "execution_count": null,
   "metadata": {},
   "outputs": [],
   "source": []
  }
 ],
 "metadata": {
  "kernelspec": {
   "display_name": "Python 3",
   "language": "python",
   "name": "python3"
  },
  "language_info": {
   "codemirror_mode": {
    "name": "ipython",
    "version": 3
   },
   "file_extension": ".py",
   "mimetype": "text/x-python",
   "name": "python",
   "nbconvert_exporter": "python",
   "pygments_lexer": "ipython3",
   "version": "3.7.6"
  }
 },
 "nbformat": 4,
 "nbformat_minor": 4
}
